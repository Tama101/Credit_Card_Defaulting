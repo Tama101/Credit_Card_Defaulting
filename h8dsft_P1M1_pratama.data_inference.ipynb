{
 "cells": [
  {
   "attachments": {},
   "cell_type": "markdown",
   "metadata": {},
   "source": [
    "# Model Inference  \n",
    "# Phase 1 Milestone 1\n",
    "    Name        : Pratama Waskito Prihandana\n",
    "    class       : batch 003\n",
    "\n",
    "______"
   ]
  },
  {
   "attachments": {},
   "cell_type": "markdown",
   "metadata": {},
   "source": [
    "# I. Importing Library"
   ]
  },
  {
   "cell_type": "code",
   "execution_count": 12,
   "metadata": {},
   "outputs": [],
   "source": [
    "import pickle\n",
    "import pandas as pd\n",
    "import numpy as np\n",
    "import seaborn as sns\n",
    "import matplotlib.pyplot as plt\n",
    "from sklearn.linear_model import LogisticRegression\n",
    "from sklearn.model_selection import train_test_split\n",
    "from sklearn.preprocessing import StandardScaler\n",
    "from sklearn.preprocessing import MinMaxScaler\n",
    "from sklearn.preprocessing import OrdinalEncoder\n",
    "from sklearn.preprocessing import OneHotEncoder\n",
    "from sklearn.svm import SVC\n",
    "from sklearn.metrics import accuracy_score\n",
    "import warnings\n",
    "warnings.filterwarnings(\"ignore\")"
   ]
  },
  {
   "attachments": {},
   "cell_type": "markdown",
   "metadata": {},
   "source": [
    "# II. Load Model"
   ]
  },
  {
   "cell_type": "code",
   "execution_count": 13,
   "metadata": {},
   "outputs": [],
   "source": [
    "with open('model_scaler.pkl', 'rb') as file_1:\n",
    "    model_scaler = pickle.load(file_1)\n",
    "    \n",
    "with open('model_svm.pkl', 'rb') as file_2:\n",
    "    model_svm = pickle.load(file_2)\n",
    "    \n",
    "with open('model_dt.pkl', 'rb') as file_3:\n",
    "    model_dt = pickle.load(file_3)\n",
    "    \n",
    "with open('model_rf.pkl', 'rb') as file_4:\n",
    "    model_rf = pickle.load(file_4)\n",
    "    \n",
    "with open('model_logreg.pkl', 'rb') as file_5:\n",
    "    model_logreg = pickle.load(file_5)\n",
    "    \n",
    "with open('model_gnb.pkl', 'rb') as file_6:\n",
    "    model_gnb = pickle.load(file_6)\n",
    "            \n",
    "with open('model_knn.pkl', 'rb') as file_7:\n",
    "    model_knn = pickle.load(file_7)"
   ]
  },
  {
   "attachments": {},
   "cell_type": "markdown",
   "metadata": {},
   "source": [
    "# III. Load Data Inference"
   ]
  },
  {
   "cell_type": "code",
   "execution_count": 14,
   "metadata": {},
   "outputs": [],
   "source": [
    "df = pd.read_csv('xdata_inference_p1m1.csv')"
   ]
  },
  {
   "cell_type": "code",
   "execution_count": 15,
   "metadata": {},
   "outputs": [
    {
     "data": {
      "text/html": [
       "<div>\n",
       "<style scoped>\n",
       "    .dataframe tbody tr th:only-of-type {\n",
       "        vertical-align: middle;\n",
       "    }\n",
       "\n",
       "    .dataframe tbody tr th {\n",
       "        vertical-align: top;\n",
       "    }\n",
       "\n",
       "    .dataframe thead th {\n",
       "        text-align: right;\n",
       "    }\n",
       "</style>\n",
       "<table border=\"1\" class=\"dataframe\">\n",
       "  <thead>\n",
       "    <tr style=\"text-align: right;\">\n",
       "      <th></th>\n",
       "      <th>Unnamed: 0</th>\n",
       "      <th>pay_0</th>\n",
       "      <th>pay_2</th>\n",
       "      <th>pay_3</th>\n",
       "      <th>pay_4</th>\n",
       "      <th>pay_5</th>\n",
       "      <th>pay_6</th>\n",
       "      <th>limit_balance</th>\n",
       "      <th>default_payment</th>\n",
       "    </tr>\n",
       "  </thead>\n",
       "  <tbody>\n",
       "    <tr>\n",
       "      <th>0</th>\n",
       "      <td>0</td>\n",
       "      <td>3.0</td>\n",
       "      <td>4.0</td>\n",
       "      <td>-2.0</td>\n",
       "      <td>-2.0</td>\n",
       "      <td>7.0</td>\n",
       "      <td>2.0</td>\n",
       "      <td>259446.697714</td>\n",
       "      <td>1</td>\n",
       "    </tr>\n",
       "    <tr>\n",
       "      <th>1</th>\n",
       "      <td>1</td>\n",
       "      <td>-2.0</td>\n",
       "      <td>7.0</td>\n",
       "      <td>-1.0</td>\n",
       "      <td>-1.0</td>\n",
       "      <td>4.0</td>\n",
       "      <td>0.0</td>\n",
       "      <td>721207.725948</td>\n",
       "      <td>1</td>\n",
       "    </tr>\n",
       "    <tr>\n",
       "      <th>2</th>\n",
       "      <td>2</td>\n",
       "      <td>-1.0</td>\n",
       "      <td>7.0</td>\n",
       "      <td>3.0</td>\n",
       "      <td>6.0</td>\n",
       "      <td>4.0</td>\n",
       "      <td>6.0</td>\n",
       "      <td>426709.596758</td>\n",
       "      <td>0</td>\n",
       "    </tr>\n",
       "    <tr>\n",
       "      <th>3</th>\n",
       "      <td>3</td>\n",
       "      <td>4.0</td>\n",
       "      <td>7.0</td>\n",
       "      <td>7.0</td>\n",
       "      <td>4.0</td>\n",
       "      <td>7.0</td>\n",
       "      <td>3.0</td>\n",
       "      <td>212664.155139</td>\n",
       "      <td>0</td>\n",
       "    </tr>\n",
       "    <tr>\n",
       "      <th>4</th>\n",
       "      <td>4</td>\n",
       "      <td>-2.0</td>\n",
       "      <td>6.0</td>\n",
       "      <td>-2.0</td>\n",
       "      <td>6.0</td>\n",
       "      <td>6.0</td>\n",
       "      <td>-2.0</td>\n",
       "      <td>668520.172663</td>\n",
       "      <td>1</td>\n",
       "    </tr>\n",
       "  </tbody>\n",
       "</table>\n",
       "</div>"
      ],
      "text/plain": [
       "   Unnamed: 0  pay_0  pay_2  pay_3  pay_4  pay_5  pay_6  limit_balance  \\\n",
       "0           0    3.0    4.0   -2.0   -2.0    7.0    2.0  259446.697714   \n",
       "1           1   -2.0    7.0   -1.0   -1.0    4.0    0.0  721207.725948   \n",
       "2           2   -1.0    7.0    3.0    6.0    4.0    6.0  426709.596758   \n",
       "3           3    4.0    7.0    7.0    4.0    7.0    3.0  212664.155139   \n",
       "4           4   -2.0    6.0   -2.0    6.0    6.0   -2.0  668520.172663   \n",
       "\n",
       "   default_payment  \n",
       "0                1  \n",
       "1                1  \n",
       "2                0  \n",
       "3                0  \n",
       "4                1  "
      ]
     },
     "execution_count": 15,
     "metadata": {},
     "output_type": "execute_result"
    }
   ],
   "source": [
    "df.head()"
   ]
  },
  {
   "cell_type": "code",
   "execution_count": 16,
   "metadata": {},
   "outputs": [],
   "source": [
    "# Drop unwanted column\n",
    "df = df.drop(columns='Unnamed: 0', axis=1)"
   ]
  },
  {
   "cell_type": "code",
   "execution_count": 17,
   "metadata": {},
   "outputs": [
    {
     "data": {
      "text/html": [
       "<div>\n",
       "<style scoped>\n",
       "    .dataframe tbody tr th:only-of-type {\n",
       "        vertical-align: middle;\n",
       "    }\n",
       "\n",
       "    .dataframe tbody tr th {\n",
       "        vertical-align: top;\n",
       "    }\n",
       "\n",
       "    .dataframe thead th {\n",
       "        text-align: right;\n",
       "    }\n",
       "</style>\n",
       "<table border=\"1\" class=\"dataframe\">\n",
       "  <thead>\n",
       "    <tr style=\"text-align: right;\">\n",
       "      <th></th>\n",
       "      <th>pay_0</th>\n",
       "      <th>pay_2</th>\n",
       "      <th>pay_3</th>\n",
       "      <th>pay_4</th>\n",
       "      <th>pay_5</th>\n",
       "      <th>pay_6</th>\n",
       "      <th>limit_balance</th>\n",
       "      <th>default_payment</th>\n",
       "    </tr>\n",
       "  </thead>\n",
       "  <tbody>\n",
       "    <tr>\n",
       "      <th>0</th>\n",
       "      <td>3.0</td>\n",
       "      <td>4.0</td>\n",
       "      <td>-2.0</td>\n",
       "      <td>-2.0</td>\n",
       "      <td>7.0</td>\n",
       "      <td>2.0</td>\n",
       "      <td>259446.697714</td>\n",
       "      <td>1</td>\n",
       "    </tr>\n",
       "    <tr>\n",
       "      <th>1</th>\n",
       "      <td>-2.0</td>\n",
       "      <td>7.0</td>\n",
       "      <td>-1.0</td>\n",
       "      <td>-1.0</td>\n",
       "      <td>4.0</td>\n",
       "      <td>0.0</td>\n",
       "      <td>721207.725948</td>\n",
       "      <td>1</td>\n",
       "    </tr>\n",
       "    <tr>\n",
       "      <th>2</th>\n",
       "      <td>-1.0</td>\n",
       "      <td>7.0</td>\n",
       "      <td>3.0</td>\n",
       "      <td>6.0</td>\n",
       "      <td>4.0</td>\n",
       "      <td>6.0</td>\n",
       "      <td>426709.596758</td>\n",
       "      <td>0</td>\n",
       "    </tr>\n",
       "    <tr>\n",
       "      <th>3</th>\n",
       "      <td>4.0</td>\n",
       "      <td>7.0</td>\n",
       "      <td>7.0</td>\n",
       "      <td>4.0</td>\n",
       "      <td>7.0</td>\n",
       "      <td>3.0</td>\n",
       "      <td>212664.155139</td>\n",
       "      <td>0</td>\n",
       "    </tr>\n",
       "    <tr>\n",
       "      <th>4</th>\n",
       "      <td>-2.0</td>\n",
       "      <td>6.0</td>\n",
       "      <td>-2.0</td>\n",
       "      <td>6.0</td>\n",
       "      <td>6.0</td>\n",
       "      <td>-2.0</td>\n",
       "      <td>668520.172663</td>\n",
       "      <td>1</td>\n",
       "    </tr>\n",
       "  </tbody>\n",
       "</table>\n",
       "</div>"
      ],
      "text/plain": [
       "   pay_0  pay_2  pay_3  pay_4  pay_5  pay_6  limit_balance  default_payment\n",
       "0    3.0    4.0   -2.0   -2.0    7.0    2.0  259446.697714                1\n",
       "1   -2.0    7.0   -1.0   -1.0    4.0    0.0  721207.725948                1\n",
       "2   -1.0    7.0    3.0    6.0    4.0    6.0  426709.596758                0\n",
       "3    4.0    7.0    7.0    4.0    7.0    3.0  212664.155139                0\n",
       "4   -2.0    6.0   -2.0    6.0    6.0   -2.0  668520.172663                1"
      ]
     },
     "execution_count": 17,
     "metadata": {},
     "output_type": "execute_result"
    }
   ],
   "source": [
    "df.head()"
   ]
  },
  {
   "attachments": {},
   "cell_type": "markdown",
   "metadata": {},
   "source": [
    "# IV. Feature Scaling"
   ]
  },
  {
   "cell_type": "code",
   "execution_count": 18,
   "metadata": {},
   "outputs": [],
   "source": [
    "# create backup\n",
    "df_pred = df\n",
    "\n",
    "# scaling numerical only\n",
    "num_scaled = pd.DataFrame(model_scaler.transform(df[['limit_balance']]), columns=df[['limit_balance']].columns.tolist())\n",
    "\n",
    "#concatenate column\n",
    "df_pred = np.concatenate([df[['pay_0', 'pay_2', 'pay_3', 'pay_4', 'pay_5', 'pay_6']], num_scaled], axis=1)"
   ]
  },
  {
   "attachments": {},
   "cell_type": "markdown",
   "metadata": {},
   "source": [
    "# V. Model Implementation"
   ]
  },
  {
   "cell_type": "code",
   "execution_count": 19,
   "metadata": {},
   "outputs": [],
   "source": [
    "# SVM prediciton\n",
    "svm_pred = pd.DataFrame(model_svm.predict(df_pred), columns=['svm_pred'])\n",
    "\n",
    "# Decision tree prediction\n",
    "dt_pred = pd.DataFrame(model_dt.predict(df_pred), columns=['decision_tree_pred'])\n",
    "\n",
    "# random forest\n",
    "rf_pred = pd.DataFrame(model_rf.predict(df_pred), columns=['random_forest_pred'])\n",
    "\n",
    "# logistic regression\n",
    "logreg_pred = pd.DataFrame(model_logreg.predict(df_pred), columns=['logistic_regression_pred'])\n",
    "\n",
    "# Gaussian Naive Bayes\n",
    "gnb_pred = pd.DataFrame(model_gnb.predict(df_pred), columns=['naive_bayes_pred'])\n",
    "\n",
    "# K-Nearest neighbor\n",
    "knn_pred = pd.DataFrame(model_knn.predict(df_pred), columns=['knn_pred'])"
   ]
  },
  {
   "cell_type": "code",
   "execution_count": 20,
   "metadata": {},
   "outputs": [
    {
     "data": {
      "text/html": [
       "<div>\n",
       "<style scoped>\n",
       "    .dataframe tbody tr th:only-of-type {\n",
       "        vertical-align: middle;\n",
       "    }\n",
       "\n",
       "    .dataframe tbody tr th {\n",
       "        vertical-align: top;\n",
       "    }\n",
       "\n",
       "    .dataframe thead th {\n",
       "        text-align: right;\n",
       "    }\n",
       "</style>\n",
       "<table border=\"1\" class=\"dataframe\">\n",
       "  <thead>\n",
       "    <tr style=\"text-align: right;\">\n",
       "      <th></th>\n",
       "      <th>pay_0</th>\n",
       "      <th>pay_2</th>\n",
       "      <th>pay_3</th>\n",
       "      <th>pay_4</th>\n",
       "      <th>pay_5</th>\n",
       "      <th>pay_6</th>\n",
       "      <th>limit_balance</th>\n",
       "      <th>default_payment</th>\n",
       "      <th>svm_pred</th>\n",
       "      <th>decision_tree_pred</th>\n",
       "      <th>random_forest_pred</th>\n",
       "      <th>logistic_regression_pred</th>\n",
       "      <th>naive_bayes_pred</th>\n",
       "      <th>knn_pred</th>\n",
       "    </tr>\n",
       "  </thead>\n",
       "  <tbody>\n",
       "    <tr>\n",
       "      <th>0</th>\n",
       "      <td>3.0</td>\n",
       "      <td>4.0</td>\n",
       "      <td>-2.0</td>\n",
       "      <td>-2.0</td>\n",
       "      <td>7.0</td>\n",
       "      <td>2.0</td>\n",
       "      <td>259446.697714</td>\n",
       "      <td>1</td>\n",
       "      <td>0</td>\n",
       "      <td>1</td>\n",
       "      <td>1</td>\n",
       "      <td>1</td>\n",
       "      <td>1</td>\n",
       "      <td>1</td>\n",
       "    </tr>\n",
       "    <tr>\n",
       "      <th>1</th>\n",
       "      <td>-2.0</td>\n",
       "      <td>7.0</td>\n",
       "      <td>-1.0</td>\n",
       "      <td>-1.0</td>\n",
       "      <td>4.0</td>\n",
       "      <td>0.0</td>\n",
       "      <td>721207.725948</td>\n",
       "      <td>1</td>\n",
       "      <td>0</td>\n",
       "      <td>0</td>\n",
       "      <td>0</td>\n",
       "      <td>0</td>\n",
       "      <td>1</td>\n",
       "      <td>0</td>\n",
       "    </tr>\n",
       "    <tr>\n",
       "      <th>2</th>\n",
       "      <td>-1.0</td>\n",
       "      <td>7.0</td>\n",
       "      <td>3.0</td>\n",
       "      <td>6.0</td>\n",
       "      <td>4.0</td>\n",
       "      <td>6.0</td>\n",
       "      <td>426709.596758</td>\n",
       "      <td>0</td>\n",
       "      <td>0</td>\n",
       "      <td>0</td>\n",
       "      <td>0</td>\n",
       "      <td>0</td>\n",
       "      <td>1</td>\n",
       "      <td>1</td>\n",
       "    </tr>\n",
       "    <tr>\n",
       "      <th>3</th>\n",
       "      <td>4.0</td>\n",
       "      <td>7.0</td>\n",
       "      <td>7.0</td>\n",
       "      <td>4.0</td>\n",
       "      <td>7.0</td>\n",
       "      <td>3.0</td>\n",
       "      <td>212664.155139</td>\n",
       "      <td>0</td>\n",
       "      <td>0</td>\n",
       "      <td>1</td>\n",
       "      <td>1</td>\n",
       "      <td>1</td>\n",
       "      <td>1</td>\n",
       "      <td>1</td>\n",
       "    </tr>\n",
       "    <tr>\n",
       "      <th>4</th>\n",
       "      <td>-2.0</td>\n",
       "      <td>6.0</td>\n",
       "      <td>-2.0</td>\n",
       "      <td>6.0</td>\n",
       "      <td>6.0</td>\n",
       "      <td>-2.0</td>\n",
       "      <td>668520.172663</td>\n",
       "      <td>1</td>\n",
       "      <td>0</td>\n",
       "      <td>0</td>\n",
       "      <td>0</td>\n",
       "      <td>0</td>\n",
       "      <td>1</td>\n",
       "      <td>0</td>\n",
       "    </tr>\n",
       "  </tbody>\n",
       "</table>\n",
       "</div>"
      ],
      "text/plain": [
       "   pay_0  pay_2  pay_3  pay_4  pay_5  pay_6  limit_balance  default_payment  \\\n",
       "0    3.0    4.0   -2.0   -2.0    7.0    2.0  259446.697714                1   \n",
       "1   -2.0    7.0   -1.0   -1.0    4.0    0.0  721207.725948                1   \n",
       "2   -1.0    7.0    3.0    6.0    4.0    6.0  426709.596758                0   \n",
       "3    4.0    7.0    7.0    4.0    7.0    3.0  212664.155139                0   \n",
       "4   -2.0    6.0   -2.0    6.0    6.0   -2.0  668520.172663                1   \n",
       "\n",
       "   svm_pred  decision_tree_pred  random_forest_pred  logistic_regression_pred  \\\n",
       "0         0                   1                   1                         1   \n",
       "1         0                   0                   0                         0   \n",
       "2         0                   0                   0                         0   \n",
       "3         0                   1                   1                         1   \n",
       "4         0                   0                   0                         0   \n",
       "\n",
       "   naive_bayes_pred  knn_pred  \n",
       "0                 1         1  \n",
       "1                 1         0  \n",
       "2                 1         1  \n",
       "3                 1         1  \n",
       "4                 1         0  "
      ]
     },
     "execution_count": 20,
     "metadata": {},
     "output_type": "execute_result"
    }
   ],
   "source": [
    "# Concatenate prediction result to dataframe\n",
    "pred_result = pd.concat([df, svm_pred, dt_pred, rf_pred, logreg_pred, gnb_pred, knn_pred], axis=1)\n",
    "pred_result.head()"
   ]
  },
  {
   "cell_type": "code",
   "execution_count": 21,
   "metadata": {},
   "outputs": [
    {
     "data": {
      "text/plain": [
       "<AxesSubplot: xlabel='count', ylabel='logistic_regression_pred'>"
      ]
     },
     "execution_count": 21,
     "metadata": {},
     "output_type": "execute_result"
    },
    {
     "data": {
      "image/png": "[encoded data removed]",
      "text/plain": [
       "<Figure size 1500x1300 with 7 Axes>"
      ]
     },
     "metadata": {},
     "output_type": "display_data"
    }
   ],
   "source": [
    "plt.figure(figsize=(15,13))\n",
    "\n",
    "plt.subplot(421)\n",
    "sns.set_style(\"whitegrid\")\n",
    "sns.countplot(y='default_payment', data=pred_result)\n",
    "\n",
    "plt.subplot(422)\n",
    "sns.set_style(\"whitegrid\")\n",
    "sns.countplot(y='svm_pred', data=pred_result)\n",
    "\n",
    "plt.subplot(423)\n",
    "sns.set_style(\"whitegrid\")\n",
    "sns.countplot(y='decision_tree_pred', data=pred_result)\n",
    "\n",
    "plt.subplot(424)\n",
    "sns.set_style(\"whitegrid\")\n",
    "sns.countplot(y='random_forest_pred', data=pred_result)\n",
    "\n",
    "plt.subplot(425)\n",
    "sns.set_style(\"whitegrid\")\n",
    "sns.countplot(y='naive_bayes_pred', data=pred_result)\n",
    "\n",
    "plt.subplot(426)\n",
    "sns.set_style(\"whitegrid\")\n",
    "sns.countplot(y='knn_pred', data=pred_result)\n",
    "\n",
    "plt.subplot(427)\n",
    "sns.set_style(\"whitegrid\")\n",
    "sns.countplot(y='logistic_regression_pred', data=pred_result)"
   ]
  },
  {
   "cell_type": "code",
   "execution_count": 22,
   "metadata": {},
   "outputs": [
    {
     "data": {
      "text/plain": [
       "Text(0.5, 1.4, 'Prediction Model Using Random Forest')"
      ]
     },
     "execution_count": 22,
     "metadata": {},
     "output_type": "execute_result"
    },
    {
     "data": {
      "image/png": "[encoded data removed]",
      "text/plain": [
       "<Figure size 200x200 with 1 Axes>"
      ]
     },
     "metadata": {},
     "output_type": "display_data"
    }
   ],
   "source": [
    "# default count\n",
    "plt.figure(figsize=(2,2))\n",
    "\n",
    "plt.pie(pred_result['random_forest_pred'].value_counts(),labels=['No','Yes'],autopct='%0.1f%%',radius=2)\n",
    "plt.suptitle(\"Prediction Model Using Random Forest\", y=1.4)"
   ]
  },
  {
   "cell_type": "code",
   "execution_count": null,
   "metadata": {},
   "outputs": [],
   "source": []
  }
 ],
 "metadata": {
  "kernelspec": {
   "display_name": "Python 3",
   "language": "python",
   "name": "python3"
  },
  "language_info": {
   "codemirror_mode": {
    "name": "ipython",
    "version": 3
   },
   "file_extension": ".py",
   "mimetype": "text/x-python",
   "name": "python",
   "nbconvert_exporter": "python",
   "pygments_lexer": "ipython3",
   "version": "3.10.9"
  },
  "orig_nbformat": 4,
  "vscode": {
   "interpreter": {
    "hash": "2477715d23cfa7073719b1da90ed711566d48571fff9b70e9b4255db9b9514ee"
   }
  }
 },
 "nbformat": 4,
 "nbformat_minor": 2
}
